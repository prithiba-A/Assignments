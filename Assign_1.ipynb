{
  "nbformat": 4,
  "nbformat_minor": 0,
  "metadata": {
    "colab": {
      "provenance": [],
      "authorship_tag": "ABX9TyMV7XResI2Cs3JFiz9FjVir",
      "include_colab_link": true
    },
    "kernelspec": {
      "name": "python3",
      "display_name": "Python 3"
    },
    "language_info": {
      "name": "python"
    }
  },
  "cells": [
    {
      "cell_type": "markdown",
      "metadata": {
        "id": "view-in-github",
        "colab_type": "text"
      },
      "source": [
        "<a href=\"https://colab.research.google.com/github/prithiba-A/Assignments/blob/main/Assign_1.ipynb\" target=\"_parent\"><img src=\"https://colab.research.google.com/assets/colab-badge.svg\" alt=\"Open In Colab\"/></a>"
      ]
    },
    {
      "cell_type": "markdown",
      "source": [
        "Q1.L is a list defined as L= [11, 12, 13, 14].\n",
        "(i) WAP to add 50 and 60 to L.\n",
        "(ii) WAP to remove 11 and 13from L.\n",
        "(iii) WAP to sort L in ascending order.\n",
        "(iv) WAP to sort L in descending order.\n",
        "(v) WAP to search for 13 in L.\n",
        "(vi) WAP to count the number of elements present in L.\n",
        "(vii) WAP to sum all the elements in L.\n",
        "(viii) WAP to sum all ODD numbers in L.\n",
        "(ix) WAP to sum all EVEN numbers in L.\n",
        "(x) WAP to sum all PRIME numbers in L.\n",
        "(xi) WAP to clear all the elements in L.\n",
        "(xii) WAP to delete L."
      ],
      "metadata": {
        "id": "WzQITQzowAA7"
      }
    },
    {
      "cell_type": "code",
      "source": [
        "L = [11, 12, 13, 14]\n",
        "L.append(50)\n",
        "L.append(60)\n",
        "print(L)"
      ],
      "metadata": {
        "colab": {
          "base_uri": "https://localhost:8080/"
        },
        "id": "eVJUeDLMwCtq",
        "outputId": "0160b580-1fb8-4a8d-d281-468224ab94d9"
      },
      "execution_count": 1,
      "outputs": [
        {
          "output_type": "stream",
          "name": "stdout",
          "text": [
            "[11, 12, 13, 14, 50, 60]\n"
          ]
        }
      ]
    },
    {
      "cell_type": "code",
      "source": [
        "L = [11, 12, 13, 14]\n",
        "L.remove(11)\n",
        "L.remove(13)\n",
        "print(L)"
      ],
      "metadata": {
        "colab": {
          "base_uri": "https://localhost:8080/"
        },
        "id": "W5qEh-unwN-B",
        "outputId": "0f852f64-187a-443a-b2c1-9e1b10d36df0"
      },
      "execution_count": 2,
      "outputs": [
        {
          "output_type": "stream",
          "name": "stdout",
          "text": [
            "[12, 14]\n"
          ]
        }
      ]
    },
    {
      "cell_type": "code",
      "source": [
        "L = [11, 12, 13, 14]\n",
        "L.sort()\n",
        "print(L)"
      ],
      "metadata": {
        "colab": {
          "base_uri": "https://localhost:8080/"
        },
        "id": "Zo8vDE4bwTKI",
        "outputId": "2bbcca2d-528b-4ccb-8747-b1574cc842b2"
      },
      "execution_count": 3,
      "outputs": [
        {
          "output_type": "stream",
          "name": "stdout",
          "text": [
            "[11, 12, 13, 14]\n"
          ]
        }
      ]
    },
    {
      "cell_type": "code",
      "source": [
        "L = [11, 12, 13, 14]\n",
        "L.sort(reverse=True)\n",
        "print(L)"
      ],
      "metadata": {
        "colab": {
          "base_uri": "https://localhost:8080/"
        },
        "id": "9Q6x646GwW5o",
        "outputId": "309c20a7-1583-47e0-d573-b954361f7b13"
      },
      "execution_count": 4,
      "outputs": [
        {
          "output_type": "stream",
          "name": "stdout",
          "text": [
            "[14, 13, 12, 11]\n"
          ]
        }
      ]
    },
    {
      "cell_type": "code",
      "source": [
        "L = [11, 12, 13, 14]\n",
        "if 13 in L:\n",
        "    print(\"13 is present in L\")\n",
        "else:\n",
        "    print(\"13 is not present in L\")"
      ],
      "metadata": {
        "colab": {
          "base_uri": "https://localhost:8080/"
        },
        "id": "py_om79JwZmi",
        "outputId": "7b263920-ab56-4d4b-f0f6-827090bd7259"
      },
      "execution_count": 5,
      "outputs": [
        {
          "output_type": "stream",
          "name": "stdout",
          "text": [
            "13 is present in L\n"
          ]
        }
      ]
    },
    {
      "cell_type": "code",
      "source": [
        "L = [11, 12, 13, 14]\n",
        "count = len(L)\n",
        "print(\"Number of elements in L:\", count)"
      ],
      "metadata": {
        "colab": {
          "base_uri": "https://localhost:8080/"
        },
        "id": "RS4Dw5-Nwbla",
        "outputId": "853f9079-6727-4dd7-e133-caba06c7ce41"
      },
      "execution_count": 6,
      "outputs": [
        {
          "output_type": "stream",
          "name": "stdout",
          "text": [
            "Number of elements in L: 4\n"
          ]
        }
      ]
    },
    {
      "cell_type": "code",
      "source": [
        "L = [11, 12, 13, 14]\n",
        "total_sum = sum(L)\n",
        "print(\"Sum of elements in L:\", total_sum)"
      ],
      "metadata": {
        "colab": {
          "base_uri": "https://localhost:8080/"
        },
        "id": "SIASVhXmwkYK",
        "outputId": "397c1f06-80d5-41df-a7d0-a6131ea4bba1"
      },
      "execution_count": 7,
      "outputs": [
        {
          "output_type": "stream",
          "name": "stdout",
          "text": [
            "Sum of elements in L: 50\n"
          ]
        }
      ]
    },
    {
      "cell_type": "code",
      "source": [
        "L = [11, 12, 13, 14]\n",
        "odd_sum = sum(num for num in L if num % 2 != 0)\n",
        "print(\"Sum of odd numbers in L:\", odd_sum)"
      ],
      "metadata": {
        "colab": {
          "base_uri": "https://localhost:8080/"
        },
        "id": "66TWmexPwm8-",
        "outputId": "6365fe93-3196-4620-bc32-0adf671f2105"
      },
      "execution_count": 8,
      "outputs": [
        {
          "output_type": "stream",
          "name": "stdout",
          "text": [
            "Sum of odd numbers in L: 24\n"
          ]
        }
      ]
    },
    {
      "cell_type": "code",
      "source": [
        "L = [11, 12, 13, 14]\n",
        "even_sum = sum(num for num in L if num % 2 == 0)\n",
        "print(\"Sum of even numbers in L:\", even_sum)"
      ],
      "metadata": {
        "colab": {
          "base_uri": "https://localhost:8080/"
        },
        "id": "DMnznfSYwqXf",
        "outputId": "aabd609c-a908-4eea-ae01-035bcff7807f"
      },
      "execution_count": 9,
      "outputs": [
        {
          "output_type": "stream",
          "name": "stdout",
          "text": [
            "Sum of even numbers in L: 26\n"
          ]
        }
      ]
    },
    {
      "cell_type": "code",
      "source": [
        "L = [11, 12, 13, 14]\n",
        "def is_prime(num):\n",
        "    if num < 2:\n",
        "        return False\n",
        "    for i in range(2, int(num ** 0.5) + 1):\n",
        "        if num % i == 0:\n",
        "            return False\n",
        "    return True\n",
        "\n",
        "prime_sum = sum(num for num in L if is_prime(num))\n",
        "print(\"Sum of prime numbers in L:\", prime_sum)"
      ],
      "metadata": {
        "colab": {
          "base_uri": "https://localhost:8080/"
        },
        "id": "inpdldILwtpO",
        "outputId": "5c441192-03df-4656-e9d9-5e192cafda6f"
      },
      "execution_count": 10,
      "outputs": [
        {
          "output_type": "stream",
          "name": "stdout",
          "text": [
            "Sum of prime numbers in L: 24\n"
          ]
        }
      ]
    },
    {
      "cell_type": "code",
      "source": [
        "L = [11, 12, 13, 14]\n",
        "L.clear()\n",
        "print(L)"
      ],
      "metadata": {
        "colab": {
          "base_uri": "https://localhost:8080/"
        },
        "id": "en9Y-OiUwxbo",
        "outputId": "cfa4b9e2-bf0e-41f2-d0d5-b1c7b5fce9c2"
      },
      "execution_count": 11,
      "outputs": [
        {
          "output_type": "stream",
          "name": "stdout",
          "text": [
            "[]\n"
          ]
        }
      ]
    },
    {
      "cell_type": "code",
      "source": [
        "L = [11, 12, 13, 14]\n",
        "del L"
      ],
      "metadata": {
        "id": "kALXU6xgw0Tb"
      },
      "execution_count": 12,
      "outputs": []
    },
    {
      "cell_type": "markdown",
      "source": [
        "Q 2.D is a dictionary defined as D= {1:5.6, 2:7.8, 3:6.6, 4:8.7, 5:7.7}.\n",
        "(i) WAP to add new entry in D; key=8 and value is 8.8\n",
        "(ii) WAP to remove key=2.\n",
        "(iii) WAP to check weather 6 key is present in D.\n",
        "(iv) WAP to count the number of elements present in D.\n",
        "(v) WAP to add all the values present D.\n",
        "(vi) WAP to update the value of 3 to 7.1.\n",
        "(vii) WAP to clear the dictionary."
      ],
      "metadata": {
        "id": "xFbv-wHlw_-V"
      }
    },
    {
      "cell_type": "code",
      "source": [
        "D = {1: 5.6, 2: 7.8, 3: 6.6, 4: 8.7, 5: 7.7}\n",
        "D[8] = 8.8\n",
        "print(D)"
      ],
      "metadata": {
        "colab": {
          "base_uri": "https://localhost:8080/"
        },
        "id": "z-2MRhtDxC6Z",
        "outputId": "a1b5f9dd-5d18-466a-e966-c9322f2dfc03"
      },
      "execution_count": 13,
      "outputs": [
        {
          "output_type": "stream",
          "name": "stdout",
          "text": [
            "{1: 5.6, 2: 7.8, 3: 6.6, 4: 8.7, 5: 7.7, 8: 8.8}\n"
          ]
        }
      ]
    },
    {
      "cell_type": "code",
      "source": [
        "D = {1: 5.6, 2: 7.8, 3: 6.6, 4: 8.7, 5: 7.7}\n",
        "del D[2]\n",
        "print(D)"
      ],
      "metadata": {
        "colab": {
          "base_uri": "https://localhost:8080/"
        },
        "id": "OcJlhECBxGqH",
        "outputId": "bf814a13-cc82-4722-96ac-ac5abee61d34"
      },
      "execution_count": 14,
      "outputs": [
        {
          "output_type": "stream",
          "name": "stdout",
          "text": [
            "{1: 5.6, 3: 6.6, 4: 8.7, 5: 7.7}\n"
          ]
        }
      ]
    },
    {
      "cell_type": "code",
      "source": [
        "D = {1: 5.6, 2: 7.8, 3: 6.6, 4: 8.7, 5: 7.7}\n",
        "if 6 in D:\n",
        "    print(\"Key 6 is present in D\")\n",
        "else:\n",
        "    print(\"Key 6 is not present in D\")"
      ],
      "metadata": {
        "colab": {
          "base_uri": "https://localhost:8080/"
        },
        "id": "Spfmq8yZxIGz",
        "outputId": "ee312072-86c3-41d1-9d78-2cb47928fdf6"
      },
      "execution_count": 15,
      "outputs": [
        {
          "output_type": "stream",
          "name": "stdout",
          "text": [
            "Key 6 is not present in D\n"
          ]
        }
      ]
    },
    {
      "cell_type": "code",
      "source": [
        "D = {1: 5.6, 2: 7.8, 3: 6.6, 4: 8.7, 5: 7.7}\n",
        "count = len(D)\n",
        "print(\"Number of elements in D:\", count)"
      ],
      "metadata": {
        "colab": {
          "base_uri": "https://localhost:8080/"
        },
        "id": "jN2B5VVBxMYl",
        "outputId": "0dc93749-7657-48eb-da3a-1857119e0adf"
      },
      "execution_count": 16,
      "outputs": [
        {
          "output_type": "stream",
          "name": "stdout",
          "text": [
            "Number of elements in D: 5\n"
          ]
        }
      ]
    },
    {
      "cell_type": "code",
      "source": [
        "D = {1: 5.6, 2: 7.8, 3: 6.6, 4: 8.7, 5: 7.7}\n",
        "total_sum = sum(D.values())\n",
        "print(\"Sum of values in D:\", total_sum)"
      ],
      "metadata": {
        "colab": {
          "base_uri": "https://localhost:8080/"
        },
        "id": "IRncwEAhxQOt",
        "outputId": "9dc9f15d-a287-4dc5-b815-9e13521f9059"
      },
      "execution_count": 17,
      "outputs": [
        {
          "output_type": "stream",
          "name": "stdout",
          "text": [
            "Sum of values in D: 36.4\n"
          ]
        }
      ]
    },
    {
      "cell_type": "code",
      "source": [
        "D = {1: 5.6, 2: 7.8, 3: 6.6, 4: 8.7, 5: 7.7}\n",
        "D[3] = 7.1\n",
        "print(D)"
      ],
      "metadata": {
        "colab": {
          "base_uri": "https://localhost:8080/"
        },
        "id": "fSfCKHGjxVSW",
        "outputId": "e6a3f4a1-ab39-448c-8b71-fbd59708d948"
      },
      "execution_count": 18,
      "outputs": [
        {
          "output_type": "stream",
          "name": "stdout",
          "text": [
            "{1: 5.6, 2: 7.8, 3: 7.1, 4: 8.7, 5: 7.7}\n"
          ]
        }
      ]
    },
    {
      "cell_type": "code",
      "source": [
        "D = {1: 5.6, 2: 7.8, 3: 6.6, 4: 8.7, 5: 7.7}\n",
        "D.clear()\n",
        "print(D)"
      ],
      "metadata": {
        "colab": {
          "base_uri": "https://localhost:8080/"
        },
        "id": "vSZo6aLbxZso",
        "outputId": "615d4166-4293-4eb2-af91-20ae8858bd03"
      },
      "execution_count": 19,
      "outputs": [
        {
          "output_type": "stream",
          "name": "stdout",
          "text": [
            "{}\n"
          ]
        }
      ]
    },
    {
      "cell_type": "markdown",
      "source": [
        "Q 3.S1 is a set defined as S1= [10, 20, 30, 40, 50, 60].\n",
        " S2 is a set defined as S2= [40, 50, 60, 70, 80, 90].\n",
        "(i) WAP to add 55 and 66 in Set S1.\n",
        "(ii) WAP to remove 10 and 30 from Set S1.\n",
        "(iii) WAP to check whether 40 is present in S1.\n",
        "(iv) WAP to find the union between S1 and S2.\n",
        "(v) WAP to find the intersection between S1 and S2.\n",
        "(vi) WAP to find the S1 - S2."
      ],
      "metadata": {
        "id": "rtJf9AoXxen9"
      }
    },
    {
      "cell_type": "code",
      "source": [
        "S1 = {10, 20, 30, 40, 50, 60}\n",
        "S1.add(55)\n",
        "S1.add(66)\n",
        "print(S1)"
      ],
      "metadata": {
        "colab": {
          "base_uri": "https://localhost:8080/"
        },
        "id": "0GZNkB61xgGl",
        "outputId": "ae960b34-07ad-4f2c-e00f-5cec00e8cdf1"
      },
      "execution_count": 20,
      "outputs": [
        {
          "output_type": "stream",
          "name": "stdout",
          "text": [
            "{50, 66, 20, 55, 40, 10, 60, 30}\n"
          ]
        }
      ]
    },
    {
      "cell_type": "code",
      "source": [
        "S1 = {10, 20, 30, 40, 50, 60}\n",
        "S1.remove(10)\n",
        "S1.remove(30)\n",
        "print(S1)"
      ],
      "metadata": {
        "colab": {
          "base_uri": "https://localhost:8080/"
        },
        "id": "GiRGlH7Gxkj8",
        "outputId": "7ba8d4de-894a-4b4c-9ce6-5bdbaf26d3a7"
      },
      "execution_count": 21,
      "outputs": [
        {
          "output_type": "stream",
          "name": "stdout",
          "text": [
            "{50, 20, 40, 60}\n"
          ]
        }
      ]
    },
    {
      "cell_type": "code",
      "source": [
        "S1 = {10, 20, 30, 40, 50, 60}\n",
        "if 40 in S1:\n",
        "    print(\"40 is present in S1\")\n",
        "else:\n",
        "    print(\"40 is not present in S1\")"
      ],
      "metadata": {
        "colab": {
          "base_uri": "https://localhost:8080/"
        },
        "id": "vHtW1_ZvxmCy",
        "outputId": "6e5477ed-0c06-4a31-c50e-31b82e1d29ca"
      },
      "execution_count": 22,
      "outputs": [
        {
          "output_type": "stream",
          "name": "stdout",
          "text": [
            "40 is present in S1\n"
          ]
        }
      ]
    },
    {
      "cell_type": "code",
      "source": [
        "S1 = {10, 20, 30, 40, 50, 60}\n",
        "S2 = {40, 50, 60, 70, 80, 90}\n",
        "union_set = S1.union(S2)\n",
        "print(union_set)"
      ],
      "metadata": {
        "colab": {
          "base_uri": "https://localhost:8080/"
        },
        "id": "n8geOSIyxqGs",
        "outputId": "c6a74616-a595-420e-96ca-9254eee79702"
      },
      "execution_count": 23,
      "outputs": [
        {
          "output_type": "stream",
          "name": "stdout",
          "text": [
            "{70, 40, 10, 80, 50, 20, 90, 60, 30}\n"
          ]
        }
      ]
    },
    {
      "cell_type": "code",
      "source": [
        "S1 = {10, 20, 30, 40, 50, 60}\n",
        "S2 = {40, 50, 60, 70, 80, 90}\n",
        "intersection_set = S1.intersection(S2)\n",
        "print(intersection_set)"
      ],
      "metadata": {
        "colab": {
          "base_uri": "https://localhost:8080/"
        },
        "id": "tmB5xubwxtAS",
        "outputId": "16e0e95b-ea34-407e-a614-0cabf85e183c"
      },
      "execution_count": 24,
      "outputs": [
        {
          "output_type": "stream",
          "name": "stdout",
          "text": [
            "{40, 50, 60}\n"
          ]
        }
      ]
    },
    {
      "cell_type": "code",
      "source": [
        "S1 = {10, 20, 30, 40, 50, 60}\n",
        "S2 = {40, 50, 60, 70, 80, 90}\n",
        "difference_set = S1 - S2\n",
        "print(difference_set)"
      ],
      "metadata": {
        "colab": {
          "base_uri": "https://localhost:8080/"
        },
        "id": "kkS4zZsMxxeA",
        "outputId": "1a9f5be1-f1b0-4cc4-b599-9c90be1dc4c6"
      },
      "execution_count": 25,
      "outputs": [
        {
          "output_type": "stream",
          "name": "stdout",
          "text": [
            "{10, 20, 30}\n"
          ]
        }
      ]
    },
    {
      "cell_type": "markdown",
      "source": [
        "Q 4.Write the following program.\n",
        "(i) WAP to print 100 random strings whose length between 6 and 8.\n",
        "(ii) WAP to print all prime numbers between 600 and 800.\n",
        "(iii) WAP to print all numbers between 100 and 1000 that are divisible by 7 and 9."
      ],
      "metadata": {
        "id": "P96RA2ncx2si"
      }
    },
    {
      "cell_type": "code",
      "source": [
        "import random\n",
        "import string\n",
        "\n",
        "def generate_random_string(length):\n",
        "    letters = string.ascii_letters\n",
        "    return ''.join(random.choice(letters) for _ in range(length))\n",
        "\n",
        "for _ in range(100):\n",
        "    string_length = random.randint(6, 8)\n",
        "    random_string = generate_random_string(string_length)\n",
        "    print(random_string)"
      ],
      "metadata": {
        "colab": {
          "base_uri": "https://localhost:8080/"
        },
        "id": "8Cr6P1GNx4gu",
        "outputId": "50460eb9-88ef-474f-d48e-1e3decc52328"
      },
      "execution_count": 26,
      "outputs": [
        {
          "output_type": "stream",
          "name": "stdout",
          "text": [
            "NGVaFUjv\n",
            "hdqzNIw\n",
            "YkSvaEu\n",
            "jwrBqLwP\n",
            "xdpCjZeb\n",
            "DvFOMOm\n",
            "IkXChb\n",
            "lyAcRIHU\n",
            "wOIzwwRU\n",
            "netcWO\n",
            "aKscmXQQ\n",
            "EhopjG\n",
            "rlRwykFR\n",
            "mPWDWAmo\n",
            "LjGfVR\n",
            "ZIByaVFa\n",
            "aDiMfB\n",
            "dAtIbkU\n",
            "gnyMQMi\n",
            "ShNIWJC\n",
            "TjEYHB\n",
            "lRfiyOK\n",
            "koLClk\n",
            "tDOWLZ\n",
            "XGtKdDAl\n",
            "mHUiJq\n",
            "CMjNFIf\n",
            "LvlnCW\n",
            "qECiYcy\n",
            "LRdkxQ\n",
            "JpTuvdMM\n",
            "EczyQThJ\n",
            "OTcyAw\n",
            "GQPqSAOJ\n",
            "aBosGVQ\n",
            "xNeQis\n",
            "rArzsoB\n",
            "kJMFBSpL\n",
            "UCriGZw\n",
            "HuxvxH\n",
            "ZQAUGLaZ\n",
            "ykSrjtm\n",
            "ssMlJMX\n",
            "ZpgseOt\n",
            "tyQCvo\n",
            "rqJqHwtA\n",
            "bbdptENO\n",
            "isiqwA\n",
            "UgAJITJ\n",
            "XyOycH\n",
            "eMVJdCr\n",
            "VxDFISjg\n",
            "rRgaYF\n",
            "HrpLge\n",
            "qAgrmBKi\n",
            "BMEQYLE\n",
            "rFiAKQVT\n",
            "wpNeKNI\n",
            "VeSTdhz\n",
            "eSxpvq\n",
            "YMUWIDR\n",
            "oMYKOgh\n",
            "cyhSAcfx\n",
            "Yvlmdtk\n",
            "lEfiRaM\n",
            "UnFHJawo\n",
            "fcRkDyBL\n",
            "PTHIwgxl\n",
            "fkJVIMVb\n",
            "nYqDoI\n",
            "NooVeM\n",
            "OmdINZ\n",
            "mwagUIF\n",
            "PCTkMVF\n",
            "XpoXhYw\n",
            "cpIRPOC\n",
            "lObkftzD\n",
            "npqEMV\n",
            "pKkheEdv\n",
            "vsidnVJ\n",
            "YWQFjy\n",
            "RCZgMaJe\n",
            "opzyio\n",
            "pcHsnt\n",
            "LzmgHg\n",
            "KfUzEN\n",
            "iMXIAPJ\n",
            "RzyNdTf\n",
            "UaSwKUP\n",
            "xXLKVX\n",
            "ekkbkzW\n",
            "dMfYUnw\n",
            "ghfxBtT\n",
            "TgjzQO\n",
            "OUHjtKE\n",
            "RVBhje\n",
            "gUxbnObC\n",
            "TpETzEgh\n",
            "GXdOMFb\n",
            "VpYErRe\n"
          ]
        }
      ]
    },
    {
      "cell_type": "code",
      "source": [
        "def is_prime(number):\n",
        "    if number < 2:\n",
        "        return False\n",
        "    for i in range(2, int(number ** 0.5) + 1):\n",
        "        if number % i == 0:\n",
        "            return False\n",
        "    return True\n",
        "\n",
        "for number in range(600, 801):\n",
        "    if is_prime(number):\n",
        "        print(number)"
      ],
      "metadata": {
        "colab": {
          "base_uri": "https://localhost:8080/"
        },
        "id": "N24Q3ux0x83F",
        "outputId": "d043c024-9196-4699-9ff8-3920a0a87059"
      },
      "execution_count": 27,
      "outputs": [
        {
          "output_type": "stream",
          "name": "stdout",
          "text": [
            "601\n",
            "607\n",
            "613\n",
            "617\n",
            "619\n",
            "631\n",
            "641\n",
            "643\n",
            "647\n",
            "653\n",
            "659\n",
            "661\n",
            "673\n",
            "677\n",
            "683\n",
            "691\n",
            "701\n",
            "709\n",
            "719\n",
            "727\n",
            "733\n",
            "739\n",
            "743\n",
            "751\n",
            "757\n",
            "761\n",
            "769\n",
            "773\n",
            "787\n",
            "797\n"
          ]
        }
      ]
    },
    {
      "cell_type": "code",
      "source": [
        "for number in range(100, 1001):\n",
        "    if number % 7 == 0 and number % 9 == 0:\n",
        "        print(number)"
      ],
      "metadata": {
        "colab": {
          "base_uri": "https://localhost:8080/"
        },
        "id": "_pg6eC6FyCYg",
        "outputId": "d86267d7-4279-4411-ebad-47bce77739ad"
      },
      "execution_count": 28,
      "outputs": [
        {
          "output_type": "stream",
          "name": "stdout",
          "text": [
            "126\n",
            "189\n",
            "252\n",
            "315\n",
            "378\n",
            "441\n",
            "504\n",
            "567\n",
            "630\n",
            "693\n",
            "756\n",
            "819\n",
            "882\n",
            "945\n"
          ]
        }
      ]
    },
    {
      "cell_type": "markdown",
      "source": [
        "Q5. WAP to create two lists of 10 random numbers between 10 and 30; Find\n",
        "(i) Common numbers in the two lists\n",
        "(ii) Unique numbers in both the list\n",
        "(iii) Minimum in both the list\n",
        "(iv) Maximum in both the list\n",
        "(v) Sum of both the lists"
      ],
      "metadata": {
        "id": "RurL3qqhyGC5"
      }
    },
    {
      "cell_type": "code",
      "source": [
        "import random\n",
        "\n",
        "# Generate two lists of random numbers between 10 and 30\n",
        "list1 = random.sample(range(10, 31), 10)\n",
        "list2 = random.sample(range(10, 31), 10)\n",
        "\n",
        "print(\"List 1:\", list1)\n",
        "print(\"List 2:\", list2)\n",
        "\n",
        "# Find common numbers in the two lists\n",
        "common_numbers = list(set(list1) & set(list2))\n",
        "print(\"Common numbers:\", common_numbers)"
      ],
      "metadata": {
        "colab": {
          "base_uri": "https://localhost:8080/"
        },
        "id": "I-NgD04qyZ2_",
        "outputId": "5a30ce18-0bd2-4e08-c330-830bc8d67b22"
      },
      "execution_count": 29,
      "outputs": [
        {
          "output_type": "stream",
          "name": "stdout",
          "text": [
            "List 1: [25, 12, 22, 14, 19, 21, 30, 28, 10, 17]\n",
            "List 2: [17, 15, 10, 13, 28, 30, 25, 23, 20, 16]\n",
            "Common numbers: [10, 17, 25, 28, 30]\n"
          ]
        }
      ]
    },
    {
      "cell_type": "code",
      "source": [
        "# Find unique numbers in both lists\n",
        "unique_numbers = list(set(list1) ^ set(list2))\n",
        "print(\"Unique numbers:\", unique_numbers)"
      ],
      "metadata": {
        "colab": {
          "base_uri": "https://localhost:8080/"
        },
        "id": "0un3nUpUyeQb",
        "outputId": "48a2dec5-60e6-41a5-fd61-a4a01ab5aea6"
      },
      "execution_count": 30,
      "outputs": [
        {
          "output_type": "stream",
          "name": "stdout",
          "text": [
            "Unique numbers: [12, 13, 14, 15, 16, 19, 20, 21, 22, 23]\n"
          ]
        }
      ]
    },
    {
      "cell_type": "code",
      "source": [
        "# Find minimum in both lists\n",
        "min_value = min(min(list1), min(list2))\n",
        "print(\"Minimum value:\", min_value)"
      ],
      "metadata": {
        "colab": {
          "base_uri": "https://localhost:8080/"
        },
        "id": "53epvIOPyicG",
        "outputId": "61c14dd4-c2cd-47dd-c1ed-bc88c885d3dd"
      },
      "execution_count": 31,
      "outputs": [
        {
          "output_type": "stream",
          "name": "stdout",
          "text": [
            "Minimum value: 10\n"
          ]
        }
      ]
    },
    {
      "cell_type": "code",
      "source": [
        "# Find maximum in both lists\n",
        "max_value = max(max(list1), max(list2))\n",
        "print(\"Maximum value:\", max_value)"
      ],
      "metadata": {
        "colab": {
          "base_uri": "https://localhost:8080/"
        },
        "id": "sGXzYXxuyl9x",
        "outputId": "d058f54d-1218-48f3-e294-8a6cafdf5988"
      },
      "execution_count": 32,
      "outputs": [
        {
          "output_type": "stream",
          "name": "stdout",
          "text": [
            "Maximum value: 30\n"
          ]
        }
      ]
    },
    {
      "cell_type": "code",
      "source": [
        "# Find the sum of both lists\n",
        "total_sum = sum(list1) + sum(list2)\n",
        "print(\"Sum of both lists:\", total_sum)"
      ],
      "metadata": {
        "colab": {
          "base_uri": "https://localhost:8080/"
        },
        "id": "I7oaqmleyquW",
        "outputId": "1203082b-be6f-4a3b-e904-e0179a02e105"
      },
      "execution_count": 33,
      "outputs": [
        {
          "output_type": "stream",
          "name": "stdout",
          "text": [
            "Sum of both lists: 395\n"
          ]
        }
      ]
    },
    {
      "cell_type": "markdown",
      "source": [
        "Q6. WAP to create a list of 100 random numbers between 100 and 900. Count and print the:\n",
        "(i) All odd numbers\n",
        "(ii) All even numbers\n",
        "(iii) All prime numbers"
      ],
      "metadata": {
        "id": "AjAdpmA5ytl7"
      }
    },
    {
      "cell_type": "code",
      "source": [
        "import random\n",
        "\n",
        "# Generate a list of 100 random numbers between 100 and 900\n",
        "numbers = random.sample(range(100, 901), 100)\n",
        "\n",
        "# Initialize variables to store counts\n",
        "odd_count = 0\n",
        "even_count = 0\n",
        "prime_count = 0\n",
        "\n",
        "# Initialize lists to store odd numbers, even numbers, and prime numbers\n",
        "odd_numbers = []\n",
        "even_numbers = []\n",
        "prime_numbers = []\n",
        "\n",
        "# Iterate through the numbers list\n",
        "for num in numbers:\n",
        "    if num % 2 == 0:\n",
        "        # Even number\n",
        "        even_count += 1\n",
        "        even_numbers.append(num)\n",
        "    else:\n",
        "        # Odd number\n",
        "        odd_count += 1\n",
        "        odd_numbers.append(num)\n",
        "\n",
        "    # Check if the number is prime\n",
        "    is_prime = True\n",
        "    if num > 1:\n",
        "        for i in range(2, int(num ** 0.5) + 1):\n",
        "            if num % i == 0:\n",
        "                is_prime = False\n",
        "                break\n",
        "    else:\n",
        "        is_prime = False\n",
        "\n",
        "    if is_prime:\n",
        "        # Prime number\n",
        "        prime_count += 1\n",
        "        prime_numbers.append(num)\n",
        "\n",
        "# Print the odd numbers\n",
        "print(\"Odd numbers:\")\n",
        "print(odd_numbers)\n",
        "\n",
        "# Print the even numbers\n",
        "print(\"\\nEven numbers:\")\n",
        "print(even_numbers)\n",
        "\n",
        "# Print the prime numbers\n",
        "print(\"\\nPrime numbers:\")\n",
        "print(prime_numbers)\n",
        "\n",
        "# Print the counts\n",
        "print(\"\\nCount of odd numbers:\", odd_count)\n",
        "print(\"Count of even numbers:\", even_count)\n",
        "print(\"Count of prime numbers:\", prime_count)\n"
      ],
      "metadata": {
        "colab": {
          "base_uri": "https://localhost:8080/"
        },
        "id": "3NXcBFvyy3Av",
        "outputId": "79f09e78-0245-47d1-a222-ceec3db56cb5"
      },
      "execution_count": 34,
      "outputs": [
        {
          "output_type": "stream",
          "name": "stdout",
          "text": [
            "Odd numbers:\n",
            "[655, 795, 169, 639, 827, 487, 637, 587, 733, 439, 353, 139, 351, 455, 781, 767, 283, 365, 845, 449, 775, 883, 371, 567, 515, 111, 881, 125, 847, 823, 403, 785, 701, 113, 577, 771, 673, 829, 497, 297, 301]\n",
            "\n",
            "Even numbers:\n",
            "[660, 848, 294, 452, 254, 718, 704, 514, 756, 164, 668, 610, 468, 146, 242, 766, 640, 248, 678, 178, 396, 796, 682, 566, 198, 612, 534, 310, 500, 368, 564, 862, 190, 884, 364, 826, 662, 598, 572, 426, 346, 802, 812, 266, 210, 322, 416, 674, 482, 738, 874, 288, 170, 438, 590, 130, 362, 592, 380]\n",
            "\n",
            "Prime numbers:\n",
            "[827, 487, 587, 733, 439, 353, 139, 283, 449, 883, 881, 823, 701, 113, 577, 673, 829]\n",
            "\n",
            "Count of odd numbers: 41\n",
            "Count of even numbers: 59\n",
            "Count of prime numbers: 17\n"
          ]
        }
      ]
    },
    {
      "cell_type": "markdown",
      "source": [
        "Q7. D is a dictionary defined as D={1:\"One\",2:\"Two\",3:\"Three\",4:\"Four\", 5:\"Five\"}.\n",
        " WAP to read all the keys and values from dictionary and write to the file in the given below format.\n",
        "Key1, Value1\n",
        "Key2, Value2\n",
        "Key3, Value3"
      ],
      "metadata": {
        "id": "Hl3YQRdgy8l9"
      }
    },
    {
      "cell_type": "code",
      "source": [
        "D = {1: \"One\", 2: \"Two\", 3: \"Three\", 4: \"Four\", 5: \"Five\"}\n",
        "\n",
        "# Open the file in write mode\n",
        "with open(\"output.txt\", \"w\") as file:\n",
        "    # Iterate over the items in the dictionary\n",
        "    for key, value in D.items():\n",
        "        # Write the key and value to the file\n",
        "        file.write(f\"{key}, {value}\\n\")"
      ],
      "metadata": {
        "id": "kWq_AvuqyqzV"
      },
      "execution_count": 35,
      "outputs": []
    },
    {
      "cell_type": "markdown",
      "source": [
        "Q8. L is a list defined as L={\"One\",\"Two\",\"Three\",\"Four\",\"Five\"}.\n",
        " WAP to count the length of reach element from a list and write to the file in the given below format:\n",
        "One, 3\n",
        "Two, 3\n",
        "Four, 4"
      ],
      "metadata": {
        "id": "VZwiXo1fzRgq"
      }
    },
    {
      "cell_type": "code",
      "source": [
        "L = [\"One\", \"Two\", \"Three\", \"Four\", \"Five\"]\n",
        "\n",
        "# Open the file in write mode\n",
        "with open(\"output.txt\", \"w\") as file:\n",
        "    # Iterate over the elements in the list\n",
        "    for element in L:\n",
        "        # Calculate the length of the element\n",
        "        length = len(element)\n",
        "        # Write the element and its length to the file\n",
        "        file.write(f\"{element}, {length}\\n\")"
      ],
      "metadata": {
        "id": "576hysPFzo1W"
      },
      "execution_count": 38,
      "outputs": []
    },
    {
      "cell_type": "markdown",
      "source": [
        "Q9. Write to the file 100 random strings whose length between 10 and 15"
      ],
      "metadata": {
        "id": "8iaV9ypZ0XCg"
      }
    },
    {
      "cell_type": "code",
      "source": [
        "import random\n",
        "import string\n",
        "\n",
        "# Open the file in write mode\n",
        "with open(\"output.txt\", \"w\") as file:\n",
        "    # Generate 100 random strings\n",
        "    for _ in range(100):\n",
        "        # Generate a random length between 10 and 15\n",
        "        length = random.randint(10, 15)\n",
        "\n",
        "        # Generate a random string of the specified length\n",
        "        random_string = ''.join(random.choices(string.ascii_letters + string.digits, k=length))\n",
        "\n",
        "        # Write the random string to the file\n",
        "        file.write(random_string + \"\\n\")"
      ],
      "metadata": {
        "id": "SHTg38IK0Xu1"
      },
      "execution_count": 39,
      "outputs": []
    },
    {
      "cell_type": "markdown",
      "source": [
        "Q10. Write to the file all prime numbers between 600 and 800."
      ],
      "metadata": {
        "id": "3u2iXG_P0gXy"
      }
    },
    {
      "cell_type": "code",
      "source": [
        "def is_prime(n):\n",
        "    if n < 2:\n",
        "        return False\n",
        "    for i in range(2, int(n**0.5) + 1):\n",
        "        if n % i == 0:\n",
        "            return False\n",
        "    return True\n",
        "\n",
        "# Open the file in write mode\n",
        "with open(\"output.txt\", \"w\") as file:\n",
        "    # Iterate over the numbers between 600 and 800\n",
        "    for number in range(600, 801):\n",
        "        if is_prime(number):\n",
        "            # Write the prime number to the file\n",
        "            file.write(str(number) + \"\\n\")"
      ],
      "metadata": {
        "id": "aAlDPVqj0heT"
      },
      "execution_count": 40,
      "outputs": []
    },
    {
      "cell_type": "markdown",
      "source": [
        "Q11. WAP to calculate the time taken by a program."
      ],
      "metadata": {
        "id": "KBb1nD8N0z2p"
      }
    },
    {
      "cell_type": "code",
      "source": [
        "import time\n",
        "\n",
        "# Start time\n",
        "start_time = time.time()\n",
        "\n",
        "# Your program code goes here\n",
        "# ...\n",
        "\n",
        "# End time\n",
        "end_time = time.time()\n",
        "\n",
        "# Calculate the time difference\n",
        "elapsed_time = end_time - start_time\n",
        "\n",
        "# Print the time taken\n",
        "print(f\"Time taken: {elapsed_time} seconds\")"
      ],
      "metadata": {
        "colab": {
          "base_uri": "https://localhost:8080/"
        },
        "id": "83vGxCwP00xI",
        "outputId": "a83d2bb5-c7ea-41e3-83c5-3dfe9d3f9ba7"
      },
      "execution_count": 41,
      "outputs": [
        {
          "output_type": "stream",
          "name": "stdout",
          "text": [
            "Time taken: 4.2438507080078125e-05 seconds\n"
          ]
        }
      ]
    },
    {
      "cell_type": "markdown",
      "source": [
        "Q12. WAP to sort following number of elements in a list, calculate time taken and plot the graph.\n",
        "Number of elements in list Time Taken\n",
        "5k T1\n",
        "10k T2\n",
        "15k T3\n",
        "20k T4\n",
        "25k T5"
      ],
      "metadata": {
        "id": "DjtV_-vg1MGM"
      }
    },
    {
      "cell_type": "code",
      "source": [
        "import time\n",
        "import matplotlib.pyplot as plt\n",
        "\n",
        "# Function to sort a list and measure time taken\n",
        "def sort_and_measure_time(lst):\n",
        "    start_time = time.time()\n",
        "    sorted_lst = sorted(lst)\n",
        "    end_time = time.time()\n",
        "    elapsed_time = end_time - start_time\n",
        "    return elapsed_time\n",
        "\n",
        "# Define the number of elements in the list\n",
        "num_elements = [5000, 10000, 15000, 20000, 25000]\n",
        "\n",
        "# Initialize lists to store the time taken and the sorted list sizes\n",
        "time_taken = []\n",
        "sorted_list_sizes = []\n",
        "\n",
        "# Perform sorting for different list sizes\n",
        "for num in num_elements:\n",
        "    lst = list(range(num))\n",
        "    elapsed_time = sort_and_measure_time(lst)\n",
        "    time_taken.append(elapsed_time)\n",
        "    sorted_list_sizes.append(len(lst))\n",
        "\n",
        "# Plotting the graph\n",
        "plt.plot(sorted_list_sizes, time_taken, 'o-')\n",
        "plt.xlabel('Number of Elements')\n",
        "plt.ylabel('Time Taken (seconds)')\n",
        "plt.title('Sorting Time vs Number of Elements')\n",
        "plt.show()"
      ],
      "metadata": {
        "colab": {
          "base_uri": "https://localhost:8080/",
          "height": 472
        },
        "id": "YsVFr8Xc1M94",
        "outputId": "b6405c54-1068-44db-8fa3-254bced9d822"
      },
      "execution_count": 42,
      "outputs": [
        {
          "output_type": "display_data",
          "data": {
            "text/plain": [
              "<Figure size 640x480 with 1 Axes>"
            ],
            "image/png": "[encoded data removed]"
          },
          "metadata": {}
        }
      ]
    },
    {
      "cell_type": "markdown",
      "source": [
        "Q13. WAP to create a dictionary of student marks in five subjects and you have to find the student\n",
        " having maximum and minimum average marks"
      ],
      "metadata": {
        "id": "EDr1VOjg1S4i"
      }
    },
    {
      "cell_type": "code",
      "source": [
        "# Dictionary of student marks\n",
        "student_marks = {\n",
        "    \"John\": [85, 92, 78, 90, 88],\n",
        "    \"Alice\": [90, 95, 89, 92, 87],\n",
        "    \"Bob\": [79, 82, 75, 88, 91],\n",
        "    \"Emma\": [92, 88, 90, 94, 87],\n",
        "    \"Tom\": [86, 90, 82, 91, 94]\n",
        "}\n",
        "\n",
        "# Calculate average marks for each student\n",
        "average_marks = {student: sum(marks) / len(marks) for student, marks in student_marks.items()}\n",
        "\n",
        "# Find the student with maximum and minimum average marks\n",
        "max_student = max(average_marks, key=average_marks.get)\n",
        "min_student = min(average_marks, key=average_marks.get)\n",
        "\n",
        "# Print the student with maximum and minimum average marks\n",
        "print(f\"Student with maximum average marks: {max_student}\")\n",
        "print(f\"Student with minimum average marks: {min_student}\")"
      ],
      "metadata": {
        "colab": {
          "base_uri": "https://localhost:8080/"
        },
        "id": "FtqXvdj41eWs",
        "outputId": "9d645900-c252-4d72-98e3-bf409543f40d"
      },
      "execution_count": 43,
      "outputs": [
        {
          "output_type": "stream",
          "name": "stdout",
          "text": [
            "Student with maximum average marks: Alice\n",
            "Student with minimum average marks: Bob\n"
          ]
        }
      ]
    }
  ]
}